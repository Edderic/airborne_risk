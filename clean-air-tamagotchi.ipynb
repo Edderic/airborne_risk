{
 "cells": [
  {
   "cell_type": "markdown",
   "id": "378b5492-4ac3-4f5a-9036-e5a6d60de227",
   "metadata": {},
   "source": [
    "# Clean Air Tamagotchi Scoring Ideas\n",
    "\n",
    "Indoor Air Quality involves removing or diluting contaminants that can harm health – for example: PM2.5, bioaerosols, VOCs. Some of us use CO2 readings as a proxy for risk of inhaling bioaerosols such as SARS-CoV-2, and that’s what I’ll be focusing on here. Using the knowledge we’ve gained throughout the pandemic, we can help others make good choices about how to protect themselves from potentially lethal and/or disabling pathogens.\n",
    "\n",
    "## Option A: Simple Cut Point for CO2 readings\n",
    "\n",
    "For example, \n",
    "\n"
   ]
  },
  {
   "cell_type": "markdown",
   "id": "d04487ab-446c-44bd-b510-57694b9bdfaf",
   "metadata": {},
   "source": [
    "\n",
    "|CO2 ppm |Meaning|\n",
    "|-|-|\n",
    "|Under 500| Great|\n",
    "|Between 500 and 700| Good|\n",
    "|Between 700 and 1000| Meh|\n",
    "|Between 1000 and 1500| Bad|\n",
    "|Above 1500| Unacceptable!|"
   ]
  },
  {
   "cell_type": "markdown",
   "id": "4a3c0245-450c-4636-ad24-f6ac9fcefe54",
   "metadata": {},
   "source": [
    "### Pros:\n",
    "- Easy to use\n",
    "- People with Aranets are familiar with this way of thinking\n",
    "- As occupancy increases, keeping the CO2 levels constant means ventilation rate has to increase, which should lower the amount of people getting infected (i.e. less super-spready)\n",
    "\n",
    "### Cons:\n",
    "- Cutpoints seem arbitrary\n",
    "- Doesn’t take into account effects of other tools (e.g. filtration for room air cleaners, HEPA filtration with laminar flow, masking, vaccination, infector activity – singing vs. silently breathing)\n",
    "- Doesn’t take into account knowledge about others’ infectious state (i.e. disregards results of testing, symptoms)\n",
    "- Can give a user a false sense of security: If user is in a low-occupancy setting with an infector, e.g. the only other person in the room is an infector, the CO2 reading could be low but the risk can be very high.\n"
   ]
  },
  {
   "cell_type": "markdown",
   "id": "9a28c5bf-d266-4d21-9c35-39e018e6432b",
   "metadata": {},
   "source": [
    "\n",
    "## Option 2: Wells-Riley Model and Extensions\n",
    "The probability of getting infected is essentially about how much infectious particles you’ve inhaled, which is affected by different environmental and individual interventions:\n"
   ]
  },
  {
   "cell_type": "markdown",
   "id": "80884892-e659-497d-bab4-78d5ed7afe2a",
   "metadata": {},
   "source": [
    "$$\n",
    "\\begin{equation}\n",
    "\\begin{aligned}\n",
    "P(\\text{infect} \\mid \\text{infector is present}) &= 1-e^{- \\text{quanta}} \\\\\n",
    "\\text{quanta} &= \\text{quanta generation rate }  \\\\\n",
    "&\\qquad \\cdot \\text{ basic breathing rate }   \\\\\n",
    "&\\qquad \\cdot \\text{ inhalation factor(susceptible activity) }   \\\\\n",
    "&\\qquad \\cdot \\text{ exhalation factor(infector activity) }   \\\\\n",
    "&\\qquad \\cdot \\text{ masking factor for susceptible }   \\\\\n",
    "&\\qquad \\cdot \\text{ masking factor for infector } / Q \\cdot \\text{time}  \n",
    "\\end{aligned}\n",
    "\\end{equation}\n",
    "$$\n",
    "\n"
   ]
  },
  {
   "cell_type": "markdown",
   "id": "295ea6bb-425c-4072-9dc7-4ff6353b9b71",
   "metadata": {},
   "source": [
    "...where Q is the total CADR:\n",
    "\n",
    "$$\n",
    "\\begin{equation}\n",
    "\\begin{aligned}\n",
    "Q = Q_{\\text{vent}} + Q_{\\text{filtration}}\n",
    "\\end{aligned}\n",
    "\\end{equation}\n",
    "$$\n",
    "\n"
   ]
  },
  {
   "cell_type": "markdown",
   "id": "bc0c02a2-e9da-4c90-a7c4-5e37f19daf95",
   "metadata": {},
   "source": [
    "If we have steady-state CO2 readings (i.e. $lim_{t_\\rightarrow \\infty} \\text{CO}_2(t)$), we can derive $Q_\\text{vent}$:\n"
   ]
  },
  {
   "cell_type": "markdown",
   "id": "50fd0545-c14a-4a64-b3b6-f3b6b91190b9",
   "metadata": {},
   "source": [
    "$$\n",
    "\\begin{equation}\n",
    "\\begin{aligned}\n",
    "Q_{\\text{vent}} = g / [lim_{t_\\rightarrow \\infty} \\text{CO}_2(t) - \\text{CO}_{2 \\text{ ambient}}] \\qquad \\text{From OSPE Air Changes Calc}\n",
    "\\end{aligned}\n",
    "\\end{equation}\n",
    "$$\n",
    "\n"
   ]
  },
  {
   "cell_type": "markdown",
   "id": "7a4eab05-c5bb-4229-bf5a-eaaea1e25cb0",
   "metadata": {},
   "source": [
    "$$\n",
    "\\begin{equation}\n",
    "\\begin{aligned}\n",
    "lim_{t_\\rightarrow \\infty} CO_2(t)  - CO_{2 \\text{ ambient}} = g / Q_{\\text{vent}} \\\\\n",
    "lim_{t_\\rightarrow \\infty} CO_2(t) = g / Q_{\\text{vent}} + CO_{2 \\text{ ambient}}\n",
    "\\end{aligned}\n",
    "\\end{equation}\n",
    "$$\n",
    "\n"
   ]
  },
  {
   "cell_type": "markdown",
   "id": "815d48d9-d4cd-4827-9eb7-95b5a40484a2",
   "metadata": {},
   "source": [
    "This representation is useful to give the user an appropriate $CO_2$ target, given an acceptable probability of infection. We can solve for $Q_{\\text{vent}}$, plug in $g$ and $CO_{2 \\text{ ambient}}$, to get a $CO_2$ level that the user should aim for for a given event.\n",
    "\n"
   ]
  },
  {
   "cell_type": "markdown",
   "id": "de88db01-08e1-42c1-8c2c-967d67fc5ebc",
   "metadata": {},
   "source": [
    "$$\n",
    "\\begin{equation}\n",
    "\\begin{aligned}\n",
    "P(\\text{infect}) &= P(\\text{infect} | \\text{num infectors} = 0) \\cdot P(\\text{num infectors} = 0) \\\\\n",
    "&\\qquad + P(\\text{infect} | \\text{num infectors} = 1) \\cdot P(\\text{num infectors} = 1) + \\\\\n",
    "&\\qquad +P(\\text{infect} | \\text{num infectors} = 2) \\cdot P(\\text{num infectors} = 2) + … \\\\\n",
    "&\\approx P(\\text{infect} | \\text{infector is present}) \\cdot P(\\text{infector is present})\n",
    "\\end{aligned}\n",
    "\\end{equation}\n",
    "$$\n"
   ]
  },
  {
   "cell_type": "markdown",
   "id": "0db0ff5e-5be1-4df5-ab24-e551179eb254",
   "metadata": {},
   "source": [
    "The probability that at least one infector is present can be broken down as follows, assuming people are random samples of the population (i.e. statistically independent):\n",
    "\n",
    "$$\n",
    "\\begin{equation}\n",
    "\\begin{aligned}\n",
    "P(\\text{at least one infector is present}) &= 1 - P(\\text{first occupant is not infectious, } \\text{second occupant is not infectious, } ... ) \\\\\n",
    "&= 1 - \\prod_{i=0}^n P(i\\text{-th person is NOT infectious})\n",
    "\\end{aligned}\n",
    "\\end{equation}\n",
    "$$\n",
    "\n",
    "\n",
    "... where $n$ is the occupancy.\n",
    "\n",
    "The above equation is flexible. If we have more information about how risky the $i$-th individual is, based on what they've done recently, if they've taken a test (rapid / PCR, negative, positive), we can factor that in.\n",
    " For example, let's say the i-th person is asymptomatic and just tested negative on a rapid test, then we can compute $P(\\text{i-th person is infectious } \\mid \\text{rapid is negative, no symptoms})$ using a model and plug that in as the estimate for that person's risk of being infectious.\n",
    "\n",
    "Otherwise, we can simplify and assume that each individual is just a random sample from a population:\n",
    "\n",
    "$$\n",
    "\\begin{equation}\n",
    "\\begin{aligned}\n",
    "P(\\text{at least one infector is present}) &= 1 - \\prod_{i=0}^n P(i\\text{-th person is NOT infectious}) \\\\\n",
    "&= 1 - P(i\\text{-th person is NOT infectious})^n \\\\\n",
    "\\end{aligned}\n",
    "\\end{equation}\n",
    "$$\n",
    "\n"
   ]
  },
  {
   "cell_type": "markdown",
   "id": "0ed0afae-5459-403d-add4-60ef88de716f",
   "metadata": {},
   "source": [
    "### Pros:\n",
    "- More directly answers the probability of getting infected\n",
    "- Has more nuance. Can answer questions like: If I were to do activity X with occupancy Y for Z hours, what should the CO2 levels be, so I can stay under an acceptable probability of getting infected?\n",
    "- Can take into account factors like including CR boxes / HEPA into the room, unlike Option 1.\n",
    "- Can take things that can have large effects on risk that a CO2 monitor might not pick up (e.g. if the infector is singing vs. silent)\n",
    "- Can be combined with wastewater-to-cases info to estimate the probability of getting infected (when the presence of an infector is not known):\n",
    "\n",
    "### Cons:\n",
    "- The choice of an acceptable probability of getting infected is arbitrary. A user can think a 5% chance is low, but if the user does a bunch of events with that high of a probability, the cumulative risk of getting infected is high.\n",
    "- Is more complicated. Requires more inputs\n",
    "\n",
    "\n",
    "### Rudnick-Milton Version\n",
    "The $CO_2$-only (without filtration) is the Rudnick-Milton model, which directly uses rebreathed fraction:\n",
    "\n",
    "$$\n",
    "\\begin{equation}\n",
    "\\begin{aligned}\n",
    "P(\\text{infect} | \\text{num infectors}=i) &= 1 - e^{-\\text{quanta}} \\\\\n",
    "\\text{quanta} &= i \\cdot \\text{quanta generation rate} \\\\\n",
    "&\\qquad \\cdot \\text{ rebreathed fraction} \\\\\n",
    "&\\qquad / \\text{ occupancy} \\\\\n",
    "&\\qquad \\cdot \\text{ susceptible masking factor} \\\\\n",
    "&\\qquad \\cdot \\text{ infector masking factor}\n",
    "\\end{aligned}\n",
    "\\end{equation}\n",
    "$$"
   ]
  },
  {
   "cell_type": "markdown",
   "id": "22862a93-3f7f-4bbe-b4a7-57d44114b7ac",
   "metadata": {},
   "source": [
    "where $\\text{Rebreathed fraction} = (\\text{CO}_2 \\text{ reading} - \\text{CO}_2 \\text{ ambient} ) / 38800 \\text{ ppm}$\n"
   ]
  },
  {
   "cell_type": "markdown",
   "id": "a75ead30-3e0f-4503-bbc8-82b98dcfcbcf",
   "metadata": {},
   "source": [
    "It basically says that, assuming that no room air cleaner (filtration) is available, then our risk is directly tied to how much air we’re breathing in that was from people in the room. If there are 5 occupants and the air is well-mixed, and one infector is present, then our risk is tied to how infectious the person is (quanta_generation_rate), how much of that person’s breath we’re breathing in ($1/\\text{occupancy} \\cdot  \\text{rebreathed fraction}$), etc.\n",
    "\n",
    "As far as I understand, this has a nice property of not having to know the CO2 generation activity directly (i.e. exercising vs. sitting). I think it can be adjusted to incorporate activities that don’t change CO2 levels but could have drastic effects on risk (e.g. sitting vs. loudly talking vs. singing).\n"
   ]
  },
  {
   "cell_type": "markdown",
   "id": "9e2fe389-c1c1-4b33-b158-e30d631ec125",
   "metadata": {},
   "source": [
    "## "
   ]
  },
  {
   "cell_type": "markdown",
   "id": "5b723e1f-5028-442d-b401-c4db87bab9e3",
   "metadata": {},
   "source": [
    "## Option 3: Wells-Riley with MicroCOVID\n",
    "\n",
    "One of the shortcomings of Option 2 is that the acceptable probability of\n",
    "getting infected given an infector is present can seem low enough for people\n",
    "that they lose sight of cumulative risk. One can reduce the shortcomings of\n",
    "Option 2 by first coming up with a long term acceptable risk, and then working\n",
    "backwards to get a shorter-term risk budget. For example, let’s say an\n",
    "acceptable probability of getting Long COVID in the span of 60 years is 10%.\n",
    "What is an acceptable risk budget in the span of 3 months?\n",
    "\n",
    "\n",
    "Assumptions:\n",
    "- The probabiity of getting Long COVID only depends on whether or not someone got infected. Assumption 5% of those that got infected once will develop Long COVID.\n",
    "- In the span of six months (half-year), one can only get infected at most once (false for some people).\n",
    "\n",
    "The probability of getting long COVID at least once within H half-years is:\n",
    "\n",
    "$$\n",
    "\\begin{equation}\n",
    "\\begin{aligned}\n",
    "P(\\text{Long COVID at least once within H half-years}) &= \\\\\n",
    "1 - [1 - P( \\text{Long COVID} \\mid \\text{infect}) \\cdot (1 - \\prod_{e=1}^j P(\\text{infect}_{E=e}=0))]^{h}\n",
    "\\end{aligned}\n",
    "\\end{equation}\n",
    "$$\n",
    "\n",
    "- $h$ stands for the number of half-years (e.g. if we're looking at 10 years, then $h$ = 20).\n",
    "- $E$ is the event index, and there are $j$ events within that half-year. \n",
    "\n"
   ]
  },
  {
   "cell_type": "markdown",
   "id": "1792583d-1b92-41b2-9dc5-cdb72be5cf74",
   "metadata": {},
   "source": [
    "### Risk Budget per Event\n",
    "\n",
    "Example: If there's a 6% chance of developing Long COVID per infection, and I expect to live 60 years more, and if there are 12 events per half-year, that comes out to be 0.001227 or 1227 MicroCOVIDs as the acceptable risk for an event, assuming that each event has the same risk tolerance.\n",
    "\n"
   ]
  },
  {
   "cell_type": "markdown",
   "id": "b50790e9-11fa-4b86-9c16-a5d8b61ce086",
   "metadata": {},
   "source": [
    "### Risk Budget per Six Months\n",
    "\n",
    "Assuming that the user doesn't know ahead of time how many risky things they will do within the 6-month timeframe, we can solve for the six-month risk budget instead). Once we have an acceptable $P(\\text{Long COVID at least once within 60 years})$, we can solve for the risk-budget within 6-months $1 - \\prod_{e=1}^j P(\\text{infect}_{E=e}=0)$. In the example above with above with 6% chance of developing Long COVID per infection, in the span of 60 years, that comes out to be 0.014626 or 14,626 MicroCOVIDs."
   ]
  },
  {
   "cell_type": "markdown",
   "id": "9ef281e4-79d9-4d16-a0db-71b5db2605c2",
   "metadata": {},
   "source": [
    "## Can we use 15 minute intervals to know the game state?\n",
    "\n",
    "The probability of infection $P(\\text{infect})$, as shown in the Wells-Riley section, is approximately equal to $P(\\text{infect} \\mid \\text{at least on infector is present}) \\cdot P(\\text{at least one infector is present})$"
   ]
  },
  {
   "cell_type": "markdown",
   "id": "f8d91c53-17e5-429d-9fb6-e1d0f1f8abe9",
   "metadata": {},
   "source": [
    "### Extra Assumptions\n",
    "\n",
    "For simplicity, we assume that each individual has the same probability of being infectious."
   ]
  },
  {
   "cell_type": "code",
   "execution_count": 4,
   "id": "f66e8185-bdb8-4cb6-abe3-3bf43f99fc67",
   "metadata": {},
   "outputs": [],
   "source": [
    "proba_infectious = 0.01"
   ]
  },
  {
   "cell_type": "code",
   "execution_count": 1,
   "id": "2dc6f613-598d-446c-9ac9-cfa8963ec478",
   "metadata": {},
   "outputs": [],
   "source": [
    "from airborne_risk import compute_risk_assuming_infector_is_present, probability_that_someone_is_infectious_in_room"
   ]
  },
  {
   "cell_type": "markdown",
   "id": "20df2ebd-2ab3-4805-826c-afbd2577a0be",
   "metadata": {},
   "source": [
    "Scenario:\n",
    "\n",
    "### Example A:\n",
    "\n",
    "Let's say a user spends 8 hours with 10 people in location A\n",
    "\n",
    "$$\n",
    "\\begin{equation}\n",
    "\\begin{aligned}\n",
    "P(\\text{infect} \\mid d_1 = \\text{8 hours}) &= P(\\text{infect} \\mid d_1 = \\text{8 hours}, I_1 \\geq 1) \\cdot P(I_1 \\geq 1) \\\\\n",
    "&= P(\\text{infect} \\mid d_1 = \\text{8 hours}, I_1 \\geq 1) \\cdot (1 - (1 - P(I_1 \\geq 1))^{10})\n",
    "\\end{aligned}\n",
    "\\end{equation}\n",
    "$$\n"
   ]
  },
  {
   "cell_type": "markdown",
   "id": "7045060d-eacf-4d37-ad7b-a0949a7ddb89",
   "metadata": {},
   "source": [
    "... where $d_1$ is the duration of the first event, $I_1$ i the number of infectors in the first event."
   ]
  },
  {
   "cell_type": "code",
   "execution_count": 5,
   "id": "29fc9159-afc1-465e-b88c-9f58a836729e",
   "metadata": {},
   "outputs": [
    {
     "data": {
      "text/plain": [
       "0.07143979990334036"
      ]
     },
     "execution_count": 5,
     "metadata": {},
     "output_type": "execute_result"
    }
   ],
   "source": [
    "compute_risk_assuming_infector_is_present(time_hours=8) * probability_that_someone_is_infectious_in_room(proba_infectious, occupancy=10)"
   ]
  },
  {
   "cell_type": "markdown",
   "id": "1bc6e22e-5c02-4717-9044-cbd5a9c6d9ff",
   "metadata": {},
   "source": [
    "\n",
    "\n",
    " \n",
    "### Example B:\n",
    "\n",
    "Let's say a user spends 4 hours in location A, and then spends 4 hours with the *same* 10 people in location B. i.e. We treat the time spent in A as one event, and the time spent in B as a separate event, but we have kept track that we have the *same* 10 people throughout.\n",
    "\n",
    "  \n"
   ]
  },
  {
   "cell_type": "markdown",
   "id": "bcc70cb6-d29f-4ab5-ab52-0642cb61510d",
   "metadata": {},
   "source": [
    "$$\n",
    "\\begin{equation}\n",
    "\\begin{aligned}\n",
    "P(\\text{infect at least once in location A and location B}) &= P(\\text{infected within location A or B}) \\\\\n",
    "&= 1 - P(\\text{infect}_{T=1} = 0, \\text{infect}_{T=2} = 0) \\\\\n",
    "&= 1 - \\sum_{i \\in [0,1]} P(\\text{infect}_{T=1} = 0, \\text{infect}_{T=2} = 0, \\unicode{x1D7D9}[i \\geq 1]) \\\\\n",
    "&= 1 - \\sum_{i \\in [0, 1]} P(\\text{infect}_{T=1} = 0, \\text{infect}_{T=2} = 0 \\mid \\unicode{x1D7D9}[i \\geq 1]) \\cdot P(\\unicode{x1D7D9}[i \\geq 1]) \\\\\n",
    "&= 1 - \\sum_{i \\in [0, 1]} P(\\text{infect}_{T=2} = 0 \\mid \\text{infect}_{T=1} = 0, \\unicode{x1D7D9}[i \\geq 1]) \\cdot P(\\text{infect}_{T=1} = 0 \\mid \\unicode{x1D7D9}[i \\geq 1]) \\cdot P(\\unicode{x1D7D9}[i \\geq 1]) \\\\\n",
    "&= 1 - \\sum_{i \\in [0, 1]} P(\\text{infect}_{T=1} = 0 \\mid \\text{infect}_{T=1}, \\unicode{x1D7D9}[i \\geq i]) \\cdot P(\\text{infect}_{T=2} = 0 \\mid \\unicode{x1D7D9}[i \\geq 1]) \\cdot P(\\unicode{x1D7D9}[i \\geq 1]) \\\\\n",
    "&= 1 - [P(I = 0) + P(\\text{infect}_{T=2} = 0 \\mid \\text{infect}_{T=1}, I \\geq 1) \\cdot P(\\text{infect}_{T=1} = 0 \\mid I \\geq 1) \\cdot P(I \\geq 1)] \\\\\n",
    "&\\approx 1 - [P(I = 0) + P(\\text{infect}_{T=1} = 0 \\mid I = 1) \\cdot P(\\text{infect}_{T=2} = 0 \\mid I \\geq 1) \\cdot P(I \\geq 1)] \\\\\n",
    "&= P(I=\\unicode{x1D7D9}[i \\geq 1]) -  P(\\text{infect}_{T=1} = 0 \\mid I=\\unicode{x1D7D9}[i \\geq 1]) \\cdot P(\\text{infect}_{T=2} = 0 \\mid I=\\unicode{x1D7D9}[i \\geq 1] 1) \\cdot P(I=\\unicode{x1D7D9}[i \\geq 1]) \\\\\n",
    "&= P(I=\\unicode{x1D7D9}[i \\geq 1]) \\cdot (1 - P(\\text{infect}_{T=1} = 0 \\mid I=\\unicode{x1D7D9}[i \\geq 1]) \\cdot P(\\text{infect}_{T=2} = 0 \\mid I=\\unicode{x1D7D9}[i \\geq 1]))\n",
    "\\end{aligned}\n",
    "\\end{equation}\n",
    "$$\n"
   ]
  },
  {
   "cell_type": "code",
   "execution_count": 7,
   "id": "57a3dba9-a9e7-4046-b2b9-c4e8e271611d",
   "metadata": {},
   "outputs": [
    {
     "data": {
      "text/plain": [
       "0.07143979990334037"
      ]
     },
     "execution_count": 7,
     "metadata": {},
     "output_type": "execute_result"
    }
   ],
   "source": [
    "1 - (\n",
    "    (\n",
    "        1-probability_that_someone_is_infectious_in_room(proba_infectious, occupancy=10)\n",
    "    )  + (1 - compute_risk_assuming_infector_is_present(time_hours=4))**2 * probability_that_someone_is_infectious_in_room(proba_infectious, occupancy=10)\n",
    ")"
   ]
  },
  {
   "cell_type": "markdown",
   "id": "e4b43521-8f5e-4ed8-8066-95c05f4dd036",
   "metadata": {},
   "source": [
    "Take-home message: **As long as we keep track of the individuals throughout the events, we can use chunks of time to compute cumulative risk.**"
   ]
  },
  {
   "cell_type": "markdown",
   "id": "3ecbb725-0ac7-4d4e-a927-8f4d9882af47",
   "metadata": {},
   "source": [
    "\n",
    "### Example C: \n",
    "Let's say a user spends 4 hours with 10 people in location A, goes to location B and spends another 4 hours with a *different* set of 10 people.\n"
   ]
  },
  {
   "cell_type": "markdown",
   "id": "826b0ab7-af99-4511-a73c-9bb438772d87",
   "metadata": {},
   "source": [
    "$$\n",
    "\\begin{equation}\n",
    "\\begin{aligned}\n",
    "P(\\text{infect at least once in location A and location B}) &= P(\\text{infected within location A or B}) \\\\\n",
    "&= 1 - \\prod_{t=1}^2 [1 - P(\\text{infect}_t \\mid d_t = \\text{15 min}, I_t \\geq 1) P(I_t \\geq 1) ] \\\\\n",
    "&= 1 - \\prod_{t=1}^2 [1 - P(\\text{infect}_t \\mid d_t = \\text{15 min}, I_t \\geq 1) P(I_t \\geq 1) ] \\\\\n",
    "\\end{aligned}\n",
    "\\end{equation}\n",
    "$$"
   ]
  },
  {
   "cell_type": "code",
   "execution_count": 8,
   "id": "d35a0996-5fb8-4918-b380-d6ff56ce3498",
   "metadata": {},
   "outputs": [
    {
     "data": {
      "text/plain": [
       "0.09281251411385438"
      ]
     },
     "execution_count": 8,
     "metadata": {},
     "output_type": "execute_result"
    }
   ],
   "source": [
    "1 - (1 - compute_risk_assuming_infector_is_present(time_hours=4) * probability_that_someone_is_infectious_in_room(proba_infectious, occupancy=10))**2"
   ]
  },
  {
   "cell_type": "markdown",
   "id": "460c1193-cb7c-41e4-a6e1-8d84123e3553",
   "metadata": {},
   "source": [
    "The risk is 2 percentage points higher than examples A and B. Intuitively, this makes sense because in this scenario, the susceptible is exposed to more people, so the probability that they've been exposed is higher."
   ]
  },
  {
   "cell_type": "markdown",
   "id": "bc561f56-b62d-4f28-b14c-273d19074476",
   "metadata": {},
   "source": [
    "### Example D:\n",
    "\n",
    "What if for every single hour, the individual is exposed to 10 different people? This scenario might be more useful to someone who is working at a restaurant (e.g. waiter)."
   ]
  },
  {
   "cell_type": "code",
   "execution_count": 9,
   "id": "17f5cf26-9f94-41e9-ac51-1a18fd8cb4e3",
   "metadata": {},
   "outputs": [
    {
     "data": {
      "text/plain": [
       "0.11459539116970852"
      ]
     },
     "execution_count": 9,
     "metadata": {},
     "output_type": "execute_result"
    }
   ],
   "source": [
    "1 - (1 - compute_risk_assuming_infector_is_present(time_hours=1) * probability_that_someone_is_infectious_in_room(proba_infectious, occupancy=10))**8"
   ]
  },
  {
   "cell_type": "markdown",
   "id": "626a25f0-616d-4674-9f11-77832a552b0d",
   "metadata": {},
   "source": [
    "### Example E:\n",
    "\n",
    "What if for every single 15-minute interval, the individual is exposed to 10 different people, in the span of 8 hours? More extreme version of E."
   ]
  },
  {
   "cell_type": "code",
   "execution_count": 11,
   "id": "9f2fc995-51bd-4d49-bbcc-d2cb4e3c97b2",
   "metadata": {},
   "outputs": [
    {
     "data": {
      "text/plain": [
       "0.12097451887406041"
      ]
     },
     "execution_count": 11,
     "metadata": {},
     "output_type": "execute_result"
    }
   ],
   "source": [
    "1 - (1 - compute_risk_assuming_infector_is_present(time_hours=0.25) * probability_that_someone_is_infectious_in_room(proba_infectious, occupancy=10))**32"
   ]
  },
  {
   "cell_type": "markdown",
   "id": "e7241a57-43e1-4ab1-96f9-72cdfd6857ef",
   "metadata": {},
   "source": [
    "### Recommendations\n",
    "\n",
    "It would be beneficial for us to track individuals that a susceptible is exposed to. The cumulative risk over a day can have large fluctuations depending on the situation of the individual. Scenarios where the individual sees a bunch of different people regularly over the course of the day (e.g. waiter at a restaurant) can be higher risk than seeing a small amount of people in a longer time range (e.g. spending time with coworkers in an office). The \"waiter\" scenario is easier to collect data for (since we don't need to track IDs), we just need to estimate occupancy somehow. The \"office\" scenario, on the other hand, can also be a common experience. If we treat the latter scenario like the former, we'll be overestimating the risk. It can make a big difference (e.g. 120974 vs. 71439 MicroCOVIDs for about 1-day worth of exposure), at least in this quick experiment.\n"
   ]
  },
  {
   "cell_type": "code",
   "execution_count": null,
   "id": "84cec485-c559-4ca9-996e-695b6de4acd6",
   "metadata": {},
   "outputs": [],
   "source": []
  }
 ],
 "metadata": {
  "kernelspec": {
   "display_name": "Python 3 (ipykernel)",
   "language": "python",
   "name": "python3"
  },
  "language_info": {
   "codemirror_mode": {
    "name": "ipython",
    "version": 3
   },
   "file_extension": ".py",
   "mimetype": "text/x-python",
   "name": "python",
   "nbconvert_exporter": "python",
   "pygments_lexer": "ipython3",
   "version": "3.10.13"
  }
 },
 "nbformat": 4,
 "nbformat_minor": 5
}
